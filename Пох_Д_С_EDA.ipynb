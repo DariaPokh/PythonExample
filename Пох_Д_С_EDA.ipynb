{
  "nbformat": 4,
  "nbformat_minor": 0,
  "metadata": {
    "colab": {
      "provenance": [],
      "collapsed_sections": [
        "aR9J5w-A0iQV",
        "boZw9Jst5d2u",
        "aeGIi8GtDJEG",
        "HJHSt0IL-kxv",
        "rYIhz_04gOfG",
        "G5dCCWJmJY4Q",
        "DziGDpbmrW0j"
      ],
      "authorship_tag": "ABX9TyO4UP42Tu0ObWNEXq19vpDw",
      "include_colab_link": true
    },
    "kernelspec": {
      "name": "python3",
      "display_name": "Python 3"
    },
    "language_info": {
      "name": "python"
    }
  },
  "cells": [
    {
      "cell_type": "markdown",
      "metadata": {
        "id": "view-in-github",
        "colab_type": "text"
      },
      "source": [
        "<a href=\"https://colab.research.google.com/github/DariaPokh/PythonExample/blob/master/%D0%9F%D0%BE%D1%85_%D0%94_%D0%A1_EDA.ipynb\" target=\"_parent\"><img src=\"https://colab.research.google.com/assets/colab-badge.svg\" alt=\"Open In Colab\"/></a>"
      ]
    },
    {
      "cell_type": "markdown",
      "source": [
        "# Загрузка датасетов"
      ],
      "metadata": {
        "id": "aR9J5w-A0iQV"
      }
    },
    {
      "cell_type": "markdown",
      "source": [
        "1. Загрузка датасета с информацией о курсах"
      ],
      "metadata": {
        "id": "DpHWI9FO24XK"
      }
    },
    {
      "cell_type": "code",
      "source": [
        "!gdown 1kmc9fY6Fd44OE2wqjhMkO3vPjv7NvFO_"
      ],
      "metadata": {
        "id": "xrxIAVsZ0sUu",
        "colab": {
          "base_uri": "https://localhost:8080/"
        },
        "outputId": "d21db1ea-5e7e-47f3-8980-bedc690c2a37"
      },
      "execution_count": null,
      "outputs": [
        {
          "output_type": "stream",
          "name": "stdout",
          "text": [
            "Downloading...\n",
            "From: https://drive.google.com/uc?id=1kmc9fY6Fd44OE2wqjhMkO3vPjv7NvFO_\n",
            "To: /content/сoursesTutortop.csv\n",
            "\r  0% 0.00/173k [00:00<?, ?B/s]\r100% 173k/173k [00:00<00:00, 70.7MB/s]\n"
          ]
        }
      ]
    },
    {
      "cell_type": "markdown",
      "source": [
        "2. Загрузка датасета с информацией о вакансиях"
      ],
      "metadata": {
        "id": "wOgIlcxM3Ahn"
      }
    },
    {
      "cell_type": "code",
      "source": [
        "!gdown 1CkAxa0pLWyJ6TAJIC81yUdBhlHw8fA-J"
      ],
      "metadata": {
        "id": "bj8Sjq1S3JHO",
        "colab": {
          "base_uri": "https://localhost:8080/"
        },
        "outputId": "996800d7-9217-4b08-b28e-10fd97ab3430"
      },
      "execution_count": null,
      "outputs": [
        {
          "output_type": "stream",
          "name": "stdout",
          "text": [
            "Downloading...\n",
            "From: https://drive.google.com/uc?id=1CkAxa0pLWyJ6TAJIC81yUdBhlHw8fA-J\n",
            "To: /content/result roles (16.06.2022).xlsx\n",
            "100% 86.3M/86.3M [00:00<00:00, 155MB/s]\n"
          ]
        }
      ]
    },
    {
      "cell_type": "markdown",
      "source": [
        "3. Загрузка датасета с информацией о вакансиях"
      ],
      "metadata": {
        "id": "ohZvCmYi47jo"
      }
    },
    {
      "cell_type": "code",
      "source": [
        "!gdown 1Yh1xqnEWvzXcd5znWxDeFXad1PEw5_rH"
      ],
      "metadata": {
        "id": "6nQovmQV5DgH",
        "colab": {
          "base_uri": "https://localhost:8080/"
        },
        "outputId": "536ef62a-8895-4581-a9e4-a75b14aadd07"
      },
      "execution_count": null,
      "outputs": [
        {
          "output_type": "stream",
          "name": "stdout",
          "text": [
            "Downloading...\n",
            "From: https://drive.google.com/uc?id=1Yh1xqnEWvzXcd5znWxDeFXad1PEw5_rH\n",
            "To: /content/region roles (26.05.22).xlsx\n",
            "100% 84.4M/84.4M [00:00<00:00, 198MB/s]\n"
          ]
        }
      ]
    },
    {
      "cell_type": "markdown",
      "source": [
        "# Подгрузка данных в питон и начало работы с ними\n"
      ],
      "metadata": {
        "id": "boZw9Jst5d2u"
      }
    },
    {
      "cell_type": "code",
      "source": [
        "!pip install -q xlrd\n",
        "import pandas as pd"
      ],
      "metadata": {
        "id": "MXaVOYiV5tZN"
      },
      "execution_count": null,
      "outputs": []
    },
    {
      "cell_type": "code",
      "source": [
        "dataset_courses = pd.read_csv('сoursesTutortop.csv') \n",
        "dataset_may = pd.read_excel('region roles (26.05.22).xlsx', index_col=0) \n",
        "dataset_june = pd.read_excel('result roles (16.06.2022).xlsx', index_col=0)"
      ],
      "metadata": {
        "id": "vxZlWCpH5xrM"
      },
      "execution_count": null,
      "outputs": []
    },
    {
      "cell_type": "code",
      "source": [
        "dataset_courses.head()"
      ],
      "metadata": {
        "id": "i36n6ZGRAGK7",
        "colab": {
          "base_uri": "https://localhost:8080/"
        },
        "outputId": "e9b7591f-b647-42f5-bb9a-5dff55291917"
      },
      "execution_count": null,
      "outputs": [
        {
          "output_type": "execute_result",
          "data": {
            "text/plain": [
              "                                name                 school     price  \\\n",
              "0                    Аналитик данных         Eduson Academy   71900.0   \n",
              "1          Профессия Аналитик данных                 Skypro  140131.0   \n",
              "2  Лидер цифровой трансформации CDTO          Академия АйТи   80449.0   \n",
              "3               Онлайн-курс Power BI                Бруноям  590000.0   \n",
              "4        Профессия “Аналитик данных”  Moscow Digital School   33150.0   \n",
              "\n",
              "     duration  rating                                           link  \n",
              "0  Не указана     4.8  https://tutortop.ru/goto/?number=4791&term=12  \n",
              "1   5 месяцев     4.8  https://tutortop.ru/goto/?number=1529&term=12  \n",
              "2  12 месяцев     4.8  https://tutortop.ru/goto/?number=5375&term=12  \n",
              "3     1 месяц     4.8  https://tutortop.ru/goto/?number=5649&term=12  \n",
              "4    4 месяца     4.8  https://tutortop.ru/goto/?number=4572&term=12  "
            ],
            "text/html": [
              "\n",
              "  <div id=\"df-bbb7e645-89a8-4017-930b-29af858daff1\">\n",
              "    <div class=\"colab-df-container\">\n",
              "      <div>\n",
              "<style scoped>\n",
              "    .dataframe tbody tr th:only-of-type {\n",
              "        vertical-align: middle;\n",
              "    }\n",
              "\n",
              "    .dataframe tbody tr th {\n",
              "        vertical-align: top;\n",
              "    }\n",
              "\n",
              "    .dataframe thead th {\n",
              "        text-align: right;\n",
              "    }\n",
              "</style>\n",
              "<table border=\"1\" class=\"dataframe\">\n",
              "  <thead>\n",
              "    <tr style=\"text-align: right;\">\n",
              "      <th></th>\n",
              "      <th>name</th>\n",
              "      <th>school</th>\n",
              "      <th>price</th>\n",
              "      <th>duration</th>\n",
              "      <th>rating</th>\n",
              "      <th>link</th>\n",
              "    </tr>\n",
              "  </thead>\n",
              "  <tbody>\n",
              "    <tr>\n",
              "      <th>0</th>\n",
              "      <td>Аналитик данных</td>\n",
              "      <td>Eduson Academy</td>\n",
              "      <td>71900.0</td>\n",
              "      <td>Не указана</td>\n",
              "      <td>4.8</td>\n",
              "      <td>https://tutortop.ru/goto/?number=4791&amp;term=12</td>\n",
              "    </tr>\n",
              "    <tr>\n",
              "      <th>1</th>\n",
              "      <td>Профессия Аналитик данных</td>\n",
              "      <td>Skypro</td>\n",
              "      <td>140131.0</td>\n",
              "      <td>5 месяцев</td>\n",
              "      <td>4.8</td>\n",
              "      <td>https://tutortop.ru/goto/?number=1529&amp;term=12</td>\n",
              "    </tr>\n",
              "    <tr>\n",
              "      <th>2</th>\n",
              "      <td>Лидер цифровой трансформации CDTO</td>\n",
              "      <td>Академия АйТи</td>\n",
              "      <td>80449.0</td>\n",
              "      <td>12 месяцев</td>\n",
              "      <td>4.8</td>\n",
              "      <td>https://tutortop.ru/goto/?number=5375&amp;term=12</td>\n",
              "    </tr>\n",
              "    <tr>\n",
              "      <th>3</th>\n",
              "      <td>Онлайн-курс Power BI</td>\n",
              "      <td>Бруноям</td>\n",
              "      <td>590000.0</td>\n",
              "      <td>1 месяц</td>\n",
              "      <td>4.8</td>\n",
              "      <td>https://tutortop.ru/goto/?number=5649&amp;term=12</td>\n",
              "    </tr>\n",
              "    <tr>\n",
              "      <th>4</th>\n",
              "      <td>Профессия “Аналитик данных”</td>\n",
              "      <td>Moscow Digital School</td>\n",
              "      <td>33150.0</td>\n",
              "      <td>4 месяца</td>\n",
              "      <td>4.8</td>\n",
              "      <td>https://tutortop.ru/goto/?number=4572&amp;term=12</td>\n",
              "    </tr>\n",
              "  </tbody>\n",
              "</table>\n",
              "</div>\n",
              "      <button class=\"colab-df-convert\" onclick=\"convertToInteractive('df-bbb7e645-89a8-4017-930b-29af858daff1')\"\n",
              "              title=\"Convert this dataframe to an interactive table.\"\n",
              "              style=\"display:none;\">\n",
              "        \n",
              "  <svg xmlns=\"http://www.w3.org/2000/svg\" height=\"24px\"viewBox=\"0 0 24 24\"\n",
              "       width=\"24px\">\n",
              "    <path d=\"M0 0h24v24H0V0z\" fill=\"none\"/>\n",
              "    <path d=\"M18.56 5.44l.94 2.06.94-2.06 2.06-.94-2.06-.94-.94-2.06-.94 2.06-2.06.94zm-11 1L8.5 8.5l.94-2.06 2.06-.94-2.06-.94L8.5 2.5l-.94 2.06-2.06.94zm10 10l.94 2.06.94-2.06 2.06-.94-2.06-.94-.94-2.06-.94 2.06-2.06.94z\"/><path d=\"M17.41 7.96l-1.37-1.37c-.4-.4-.92-.59-1.43-.59-.52 0-1.04.2-1.43.59L10.3 9.45l-7.72 7.72c-.78.78-.78 2.05 0 2.83L4 21.41c.39.39.9.59 1.41.59.51 0 1.02-.2 1.41-.59l7.78-7.78 2.81-2.81c.8-.78.8-2.07 0-2.86zM5.41 20L4 18.59l7.72-7.72 1.47 1.35L5.41 20z\"/>\n",
              "  </svg>\n",
              "      </button>\n",
              "      \n",
              "  <style>\n",
              "    .colab-df-container {\n",
              "      display:flex;\n",
              "      flex-wrap:wrap;\n",
              "      gap: 12px;\n",
              "    }\n",
              "\n",
              "    .colab-df-convert {\n",
              "      background-color: #E8F0FE;\n",
              "      border: none;\n",
              "      border-radius: 50%;\n",
              "      cursor: pointer;\n",
              "      display: none;\n",
              "      fill: #1967D2;\n",
              "      height: 32px;\n",
              "      padding: 0 0 0 0;\n",
              "      width: 32px;\n",
              "    }\n",
              "\n",
              "    .colab-df-convert:hover {\n",
              "      background-color: #E2EBFA;\n",
              "      box-shadow: 0px 1px 2px rgba(60, 64, 67, 0.3), 0px 1px 3px 1px rgba(60, 64, 67, 0.15);\n",
              "      fill: #174EA6;\n",
              "    }\n",
              "\n",
              "    [theme=dark] .colab-df-convert {\n",
              "      background-color: #3B4455;\n",
              "      fill: #D2E3FC;\n",
              "    }\n",
              "\n",
              "    [theme=dark] .colab-df-convert:hover {\n",
              "      background-color: #434B5C;\n",
              "      box-shadow: 0px 1px 3px 1px rgba(0, 0, 0, 0.15);\n",
              "      filter: drop-shadow(0px 1px 2px rgba(0, 0, 0, 0.3));\n",
              "      fill: #FFFFFF;\n",
              "    }\n",
              "  </style>\n",
              "\n",
              "      <script>\n",
              "        const buttonEl =\n",
              "          document.querySelector('#df-bbb7e645-89a8-4017-930b-29af858daff1 button.colab-df-convert');\n",
              "        buttonEl.style.display =\n",
              "          google.colab.kernel.accessAllowed ? 'block' : 'none';\n",
              "\n",
              "        async function convertToInteractive(key) {\n",
              "          const element = document.querySelector('#df-bbb7e645-89a8-4017-930b-29af858daff1');\n",
              "          const dataTable =\n",
              "            await google.colab.kernel.invokeFunction('convertToInteractive',\n",
              "                                                     [key], {});\n",
              "          if (!dataTable) return;\n",
              "\n",
              "          const docLinkHtml = 'Like what you see? Visit the ' +\n",
              "            '<a target=\"_blank\" href=https://colab.research.google.com/notebooks/data_table.ipynb>data table notebook</a>'\n",
              "            + ' to learn more about interactive tables.';\n",
              "          element.innerHTML = '';\n",
              "          dataTable['output_type'] = 'display_data';\n",
              "          await google.colab.output.renderOutput(dataTable, element);\n",
              "          const docLink = document.createElement('div');\n",
              "          docLink.innerHTML = docLinkHtml;\n",
              "          element.appendChild(docLink);\n",
              "        }\n",
              "      </script>\n",
              "    </div>\n",
              "  </div>\n",
              "  "
            ]
          },
          "metadata": {},
          "execution_count": 100
        }
      ]
    },
    {
      "cell_type": "markdown",
      "source": [
        "# Очистка датасета"
      ],
      "metadata": {
        "id": "HJHSt0IL-kxv"
      }
    },
    {
      "cell_type": "markdown",
      "source": [
        "Для анализа вакансий выбираем следующие колонки: name, salary, experience, key_skills, specializations, area, region, employer"
      ],
      "metadata": {
        "id": "U7qeVsad7ilC"
      }
    },
    {
      "cell_type": "code",
      "source": [
        "dataset_may = dataset_may[['name', 'salary', 'experience', 'key_skills', 'specializations', 'area', 'region', 'employer', 'archived']]\n",
        "dataset_june = dataset_june[['name', 'salary', 'experience', 'key_skills', 'specializations', 'area', 'region', 'employer', 'archived']]"
      ],
      "metadata": {
        "id": "29GxgdVq7hnn"
      },
      "execution_count": null,
      "outputs": []
    },
    {
      "cell_type": "markdown",
      "source": [
        "Обработка колонки archived - приведение к булевому типу\n"
      ],
      "metadata": {
        "id": "5zwgRWklHLgl"
      }
    },
    {
      "cell_type": "code",
      "source": [
        "def clear_archived(status):\n",
        "  if status == 'False':\n",
        "    status = False\n",
        "  else: \n",
        "    status = True\n",
        "  return status\n",
        "\n",
        "dataset_june['archived'] = dataset_june['archived'].apply(clear_archived)"
      ],
      "metadata": {
        "id": "_LbhiBQUCkoi"
      },
      "execution_count": null,
      "outputs": []
    },
    {
      "cell_type": "markdown",
      "source": [
        "Объединяем датафреймы в один датасет без дубликатов строк"
      ],
      "metadata": {
        "id": "rAvXquZV7wP9"
      }
    },
    {
      "cell_type": "code",
      "source": [
        "dataset_vacancies = pd.concat([dataset_may, dataset_june]).drop_duplicates(keep=False)\n"
      ],
      "metadata": {
        "id": "ooKhgebk3dOE"
      },
      "execution_count": null,
      "outputs": []
    },
    {
      "cell_type": "markdown",
      "source": [
        "Обработка колонки salary - приведение к числовому типу. Оставляем только значение минимальной зарплаты."
      ],
      "metadata": {
        "id": "zrnFAg0qW7LP"
      }
    },
    {
      "cell_type": "code",
      "source": [
        "import json\n",
        "import numpy as np\n",
        "import re\n",
        "\n",
        "def clear_salary(salary):\n",
        "  if pd.isna(salary): \n",
        "    clean_salary = 0\n",
        "  else:\n",
        "    temp = salary.replace(\"{\", '').replace(\"}\", '').split(',')[0][8:]\n",
        "    int_temp = int(temp) if temp != \"12'\" and temp != '' and temp != 'None' and temp != \"'\" else 0\n",
        "    clean_salary = int_temp if int_temp > 10000 else 0\n",
        "  return clean_salary\n",
        "\n",
        "dataset_vacancies['salary'] = dataset_vacancies['salary'].apply(clear_salary)"
      ],
      "metadata": {
        "id": "Hf14j8LmE2or"
      },
      "execution_count": null,
      "outputs": []
    },
    {
      "cell_type": "markdown",
      "source": [
        "# Анализ категориальных данных о курсах (по направлениям обучения)"
      ],
      "metadata": {
        "id": "EWew9e5B4oRP"
      }
    },
    {
      "cell_type": "markdown",
      "source": [
        "Для анализа курсах присвоем каждому из них направление"
      ],
      "metadata": {
        "id": "oQuKislrYyN8"
      }
    },
    {
      "cell_type": "code",
      "source": [
        "def course_direction(course):\n",
        "\n",
        "  direction = []\n",
        "\n",
        "  devops = 'devops'\n",
        "  flutter = 'flutter'\n",
        "  cplus = 'c++'\n",
        "  onec = '1c'\n",
        "  kotlin = 'kotlin'\n",
        "  csharp = 'с#'\n",
        "  go = ['go ', 'golang']\n",
        "  java = ['java ', 'spring']\n",
        "  python = ['python', 'django', 'flask']\n",
        "  security = ['безопасност', 'securit']\n",
        "  front = ['фронтенд', 'front', 'фронт']\n",
        "  analys = ['a/b', 'аналитик', 'excel', 'power bi', 'sql', 'анализ', 'google', 'эксель', 'data analys', 'analys', 'аналит', 'tableau', 'google-таблицы',\n",
        "  'дашборд']\n",
        "  data_scientist = ['numpy', 'matplotlib', 'scikit-learn', 'нейронные', 'data scientist', ' ml ', 'data science', 'machine learning', 'машинного обучения', 'машинное обучение', 'deep learning', 'нейоронные сети']\n",
        "  administration = ['администрирование', 'администратор', 'microsoft', 'linux', 'bitrix', 'cети', 'ремонт', 'helpdesk']\n",
        "  data_engineering = ['postgr', 'бд', 'проектирование', 'engineering', 'дата-инженер', 'субд', 'инженер данных', 'database', 'data engineering', 'dataops-инженер', 'инженер', 'баз данных', 'базы данных', 'engineer']\n",
        "  testing = ['тестирование', 'тестировщик', 'test', 'тест', 'qa', 'ручному']\n",
        "  mobile_development = ['ios', 'swift', 'kotlin', 'android', 'мобил',' ipad', 'iphone', 'андроид']\n",
        "  game_development = ['unity', 'game', 'гейм', 'видеоигр', 'игр']\n",
        "  web_development = ['веб', 'сайт', 'tilda', 'web', 'тильда', 'javascript', 'vue.js', 'js', 'php', 'react',  'html', 'css']\n",
        "  design = ['дизайн', 'дженералист', 'ux/ui-дизайнер', 'ux', 'ui', 'модел', 'текстур', 'анимац', 'illustrator', 'моушн', 'моушен', 'иллюстр', '3d', 'верст', 'design', 'визуал', 'анимац', 'adobe', 'figma', 'интерьер', 'скетчинг',  'рисунок', 'photoshop', 'иллюстрация', 'графика', 'графический']\n",
        "  fullstack = ['fullstack', 'full stack', 'full-stack', 'фуллстек']\n",
        "\n",
        "\n",
        "  if devops in course.lower():\n",
        "    direction.append('Administration')\n",
        "\n",
        "  if flutter in course.lower():\n",
        "     direction.append('Development')\n",
        "\n",
        "  if cplus in course.lower():\n",
        "    direction.append('Development')\n",
        "\n",
        "  if onec in course.lower():\n",
        "    direction.append('Administration')\n",
        "\n",
        "  if kotlin in course.lower():\n",
        "   direction.append('Development')\n",
        "\n",
        "  if csharp in course.lower():\n",
        "    direction.append('Development')\n",
        "\n",
        "  for skill in go:\n",
        "    if skill in course.lower():\n",
        "      direction.append('Development')\n",
        "\n",
        "  for skill in java:\n",
        "    if skill in course.lower():\n",
        "     direction.append('Development')\n",
        "\n",
        "  for skill in python:\n",
        "    if skill in course.lower():\n",
        "      direction.append('Development')\n",
        "\n",
        "  for skill in security:\n",
        "    if skill in course.lower():\n",
        "      direction.append('Administration')\n",
        "\n",
        "  for skill in front:\n",
        "    if skill in course.lower():\n",
        "      direction.append('Development')\n",
        "\n",
        "  for skill in analys:\n",
        "    if skill in course.lower():\n",
        "      direction.append('Big Data')\n",
        "\n",
        "  for skill in data_scientist:\n",
        "    if skill in course.lower():\n",
        "      direction.append('Big Data')\n",
        "\n",
        "  for skill in data_engineering:\n",
        "    if skill in course.lower():\n",
        "      direction.append('Big Data')\n",
        "      direction.append('Administration')\n",
        "  \n",
        "  for skill in testing:\n",
        "    if skill in course.lower():\n",
        "      direction.append('Testing')\n",
        "\n",
        "  for skill in mobile_development:\n",
        "    if skill in course.lower():\n",
        "      direction.append('Development')\n",
        "\n",
        "  for skill in game_development:\n",
        "    if skill in course.lower():\n",
        "      direction.append('Development')\n",
        "  \n",
        "  for skill in administration:\n",
        "    if skill in course.lower():\n",
        "      direction.append('Administration')\n",
        "\n",
        "  for skill in design:\n",
        "    if skill in course.lower():\n",
        "      direction.append('Design')\n",
        "\n",
        "  for skill in fullstack:\n",
        "    if skill in course.lower():\n",
        "      direction.append('Development')\n",
        "\n",
        "  return direction\n",
        "\n",
        "dataset_courses['skill'] = dataset_courses['name'].apply(course_direction)"
      ],
      "metadata": {
        "id": "L6zpOItP5Gfu"
      },
      "execution_count": null,
      "outputs": []
    },
    {
      "cell_type": "code",
      "source": [
        "def course_development(course):\n",
        "\n",
        "  development = []\n",
        "  \n",
        "  flutter = 'flutter'\n",
        "  cplus = 'c++'\n",
        "  kotlin = 'kotlin'\n",
        "  csharp = 'с#'\n",
        "  go = ['go ', 'golang']\n",
        "  java = ['java ', 'spring']\n",
        "  python = ['python', 'django', 'flask']\n",
        "  front = ['фронтенд', 'front', 'фронт']\n",
        "  mobile_development = ['ios', 'swift', 'kotlin', 'android', 'мобил',' ipad', 'iphone', 'андроид']\n",
        "  game_development = ['unity', 'game', 'гейм', 'видеоигр', 'игр']\n",
        "  web_development = ['веб', 'сайт', 'tilda', 'web', 'тильда', 'javascript', 'vue.js', 'js', 'php', 'react',  'html', 'css']\n",
        "  fullstack = ['fullstack', 'full stack', 'full-stack', 'фуллстек']\n",
        "\n",
        "\n",
        "  if flutter in course.lower():\n",
        "     development.append('Flutter')\n",
        "\n",
        "  if cplus in course.lower():\n",
        "    development.append('C++')\n",
        "\n",
        "  if kotlin in course.lower():\n",
        "   development.append('Kotlin')\n",
        "\n",
        "  if csharp in course.lower():\n",
        "    development.append('C#')\n",
        "\n",
        "  for skill in go:\n",
        "    if skill in course.lower():\n",
        "      development.append('Go')\n",
        "\n",
        "  for skill in java:\n",
        "    if skill in course.lower():\n",
        "     development.append('Java')\n",
        "\n",
        "  for skill in python:\n",
        "    if skill in course.lower():\n",
        "      development.append('Python')\n",
        "\n",
        "  for skill in front:\n",
        "    if skill in course.lower():\n",
        "      development.append('Frontend')\n",
        "  \n",
        "  for skill in mobile_development:\n",
        "    if skill in course.lower():\n",
        "      development.append('Mobile development')\n",
        "\n",
        "  for skill in game_development:\n",
        "    if skill in course.lower():\n",
        "      development.append('GameDev')\n",
        "\n",
        "  for skill in fullstack:\n",
        "    if skill in course.lower():\n",
        "      development.append('FullStack')\n",
        "\n",
        "  return \", \".join(set(development))\n",
        "\n",
        "dataset_courses['development'] = dataset_courses['name'].apply(course_development)\n",
        "dataset_courses['development']"
      ],
      "metadata": {
        "id": "81RZAwjM4b-J",
        "colab": {
          "base_uri": "https://localhost:8080/"
        },
        "outputId": "eb4fe5c9-aca5-476e-eb22-28e9c26b0d57"
      },
      "execution_count": null,
      "outputs": [
        {
          "output_type": "execute_result",
          "data": {
            "text/plain": [
              "0                         \n",
              "1                         \n",
              "2                         \n",
              "3                         \n",
              "4                         \n",
              "               ...        \n",
              "1163              Frontend\n",
              "1164                   C++\n",
              "1165                      \n",
              "1166    Mobile development\n",
              "1167                      \n",
              "Name: development, Length: 1168, dtype: object"
            ]
          },
          "metadata": {},
          "execution_count": 12
        }
      ]
    },
    {
      "cell_type": "code",
      "source": [
        "def course_administration(course):\n",
        "\n",
        "  administration_list = []\n",
        "\n",
        "  devops = 'devops'\n",
        "  security = ['безопасност', 'securit']\n",
        "  administration = ['администрирование', 'администратор', 'microsoft', 'linux', 'bitrix', 'cети', 'ремонт', 'helpdesk']\n",
        "  data_engineering = ['postgr', 'бд', 'проектирование', 'engineering', 'дата-инженер', 'субд', 'инженер данных', 'database', 'data engineering', 'dataops-инженер', 'инженер', 'баз данных', 'базы данных', 'engineer']\n",
        "\n",
        "\n",
        "  if devops in course.lower():\n",
        "    administration_list.append('DevOps')\n",
        "\n",
        "  for skill in security:\n",
        "    if skill in course.lower():\n",
        "      administration_list.append('Security')\n",
        "\n",
        "  for skill in data_engineering:\n",
        "    if skill in course.lower():\n",
        "      administration_list.append('Data engineering')\n",
        "  \n",
        "  for skill in administration:\n",
        "    if skill in course.lower():\n",
        "      administration_list.append('Administration')\n",
        "\n",
        "  return \", \".join(set(administration_list))\n",
        "\n",
        "dataset_courses['administration'] = dataset_courses['name'].apply(course_administration)"
      ],
      "metadata": {
        "id": "vHadi9z7QL7W"
      },
      "execution_count": null,
      "outputs": []
    },
    {
      "cell_type": "code",
      "source": [
        "def course_big_data(course):\n",
        "\n",
        "  bigData = []\n",
        "\n",
        "  analys = ['a/b', 'аналитик', 'excel', 'power bi', 'sql', 'анализ', 'google', 'эксель', 'data analys', 'analys', 'аналит', 'tableau', 'google-таблицы',\n",
        "  'дашборд']\n",
        "  data_scientist = ['numpy', 'matplotlib', 'scikit-learn', 'нейронные', 'data scientist', ' ml ', 'data science', 'machine learning', 'машинного обучения', 'машинное обучение', 'deep learning', 'нейоронные сети']\n",
        "  data_engineering = ['postgr', 'бд', 'проектирование', 'engineering', 'дата-инженер', 'субд', 'инженер данных', 'database', 'data engineering', 'dataops-инженер', 'инженер', 'баз данных', 'базы данных', 'engineer']\n",
        "\n",
        "\n",
        "  for skill in analys:\n",
        "    if skill in course.lower():\n",
        "      bigData.append('Data analys')\n",
        "\n",
        "  for skill in data_scientist:\n",
        "    if skill in course.lower():\n",
        "      bigData.append('Data scientist')\n",
        "\n",
        "  for skill in data_engineering:\n",
        "    if skill in course.lower():\n",
        "      bigData.append('Data engineering')\n",
        "  \n",
        "\n",
        "  return \", \".join(set(bigData))\n",
        "\n",
        "dataset_courses['bigData'] = dataset_courses['name'].apply(course_big_data)"
      ],
      "metadata": {
        "id": "gmwcL9DsWpqH"
      },
      "execution_count": null,
      "outputs": []
    },
    {
      "cell_type": "code",
      "source": [
        "import pandas as pd\n",
        "\n",
        "dataset_courses_direction = []\n",
        "for elem in dataset_courses['skill']:\n",
        "  for i_elem in elem:\n",
        "    dataset_courses_direction.append(i_elem)\n",
        "\n",
        "dataset_courses_direction = pd.Series(dataset_courses_direction)\n",
        "dataset_courses_direction.unique()"
      ],
      "metadata": {
        "colab": {
          "base_uri": "https://localhost:8080/"
        },
        "id": "VSPJ-GSVeRPZ",
        "outputId": "8015fe1c-a38c-4c7a-deb6-d9f613b6399a"
      },
      "execution_count": null,
      "outputs": [
        {
          "output_type": "execute_result",
          "data": {
            "text/plain": [
              "array(['Big Data', 'Administration', 'Development', 'Design', 'Testing'],\n",
              "      dtype=object)"
            ]
          },
          "metadata": {},
          "execution_count": 22
        }
      ]
    },
    {
      "cell_type": "code",
      "source": [
        "import matplotlib.pyplot as plt\n",
        "\n",
        "# Круговая диаграмма\n",
        "type_counts = dataset_courses_direction.value_counts()\n",
        "total = sum(type_counts .values)\n",
        "labels = [f\"{n} ({v/total:.1%})\" for n,v in zip(type_counts.index, type_counts.values)]\n",
        "colors = {'#DD8B00': 'Big Data', '#D2001D': 'Administration', '#008D71': 'Development', '#005847': 'Design', '#FFC055': 'Testing'}\n",
        "\n",
        "#colors = ['#DD8B00', '#D2001D', '#008D71', '#005847', '#FFC055']\n",
        "\n",
        "plt.pie(type_counts.values, \n",
        "        startangle = 180, \n",
        "        colors = colors,\n",
        "        radius = 2,\n",
        "        wedgeprops = {'linewidth': 0.3, 'edgecolor':'black'})\n",
        "\n",
        "plt.title('Образовательные онлайн-программы в сфере IT', y = 1.35, fontsize = 15) # Добавление подписи к графику\n",
        "\n",
        "plt.legend(fontsize = 14,\n",
        "          ncol = 1, #  количество столбцов\n",
        "          facecolor = 'oldlace', #  цвет области\n",
        "          edgecolor = 'black', #  цвет крайней линии\n",
        "          title = 'Компетенции', #  заголовок\n",
        "          title_fontsize = '12', #  размер шрифта заголовка\n",
        "          labels = labels, # название лейблов\n",
        "          bbox_to_anchor=(-0.2, -0.667, 0.5, 1)) # расположение \"легенды\"\n",
        "plt.show()\n"
      ],
      "metadata": {
        "id": "gh_pCQsxdj2X",
        "colab": {
          "base_uri": "https://localhost:8080/",
          "height": 412
        },
        "outputId": "4005c52a-9646-4cb0-823c-ea20ead2d3ed"
      },
      "execution_count": null,
      "outputs": [
        {
          "output_type": "display_data",
          "data": {
            "text/plain": [
              "<Figure size 432x288 with 1 Axes>"
            ],
            "image/png": "[encoded data removed]"
          },
          "metadata": {}
        }
      ]
    },
    {
      "cell_type": "markdown",
      "source": [
        "# Анализ категориальных данных о вакансиях (по компетенциям и областям компетенций)"
      ],
      "metadata": {
        "id": "DziGDpbmrW0j"
      }
    },
    {
      "cell_type": "markdown",
      "source": [
        "Приводим данные о компетенциях в форму, которая удобна для анализа"
      ],
      "metadata": {
        "id": "uIW4DCHO4h7B"
      }
    },
    {
      "cell_type": "code",
      "source": [
        "def text_to_json(text):\n",
        "  try:\n",
        "    return json.loads(text.replace('\"', '').replace(\"'\", '\"'))\n",
        "  except:\n",
        "    return []\n",
        "\n",
        "dataset_vacancies['key_skills_json'] = dataset_vacancies['key_skills'].apply(text_to_json)"
      ],
      "metadata": {
        "id": "QEhj8xwSreHD"
      },
      "execution_count": null,
      "outputs": []
    },
    {
      "cell_type": "code",
      "source": [
        "def get_values(json):\n",
        "  try:\n",
        "    out = []\n",
        "    if len(json)>0:\n",
        "      for i in json:\n",
        "        out.append(i['name'])\n",
        "    return out\n",
        "  except:\n",
        "    return []\n",
        "\n",
        "dataset_vacancies['key_skills_list'] = dataset_vacancies['key_skills_json'].apply(get_values)"
      ],
      "metadata": {
        "id": "OIvfMnwqs7cJ"
      },
      "execution_count": null,
      "outputs": []
    },
    {
      "cell_type": "code",
      "source": [
        "def vacancy_direction(skills_list):\n",
        "\n",
        "  direction = []\n",
        "\n",
        "  devops = 'devops'\n",
        "  flutter = 'flutter'\n",
        "  cplus = 'c++'\n",
        "  onec = '1c'\n",
        "  kotlin = 'kotlin'\n",
        "  csharp = 'с#'\n",
        "  go = ['go ', 'golang']\n",
        "  java = ['java ', 'spring']\n",
        "  python = ['python', 'django', 'flask']\n",
        "  security = ['безопасност', 'securit']\n",
        "  front = ['фронтенд', 'front', 'фронт']\n",
        "  analys = ['a/b', 'аналитик', 'excel', 'power bi', 'sql', 'эксель', 'data analys', 'tableau', 'google-таблицы', 'дашборд']\n",
        "  data_scientist = ['numpy', 'matplotlib', 'scikit-learn', 'нейронные', 'data scientist', ' ml ', 'data science', 'machine learning', 'машинного обучения', 'машинное обучение', 'deep learning', 'нейоронные сети']\n",
        "  administration = ['администрирование', 'администратор', 'microsoft', 'linux', 'bitrix', 'cети', 'ремонт', 'helpdesk']\n",
        "  data_engineering = ['проектирование', 'engineering', 'дата-инженер', 'субд', 'инженер данных', 'database', 'data engineering', 'dataops-инженер', 'инженер', 'баз данных', 'базы данных', 'engineer']\n",
        "  testing = ['тестирование', 'тестировщик', ' test ', ' тест ', 'qa ']\n",
        "  mobile_development = ['ios', 'swift', 'kotlin', 'android', 'мобил',' ipad', 'iphone', 'андроид']\n",
        "  game_development = ['unity', 'game', 'гейм', 'видеоигр', 'игр']\n",
        "  web_development = ['веб', 'сайт', 'tilda', 'web', 'тильда', 'javascript', 'vue.js', 'js', 'php', 'react',  'html', 'css']\n",
        "  design = ['дизайн', 'дженералист', 'ux/ui-дизайнер', 'ux', 'ui', 'модел', 'текстур', 'анимац', 'illustrator', 'моушн', 'моушен', 'иллюстр', '3d', 'верст', 'design', 'визуал', 'анимац', 'adobe', 'figma', 'интерьер', 'скетчинг',  'рисунок', 'photoshop', 'иллюстрация', 'графика', 'графический']\n",
        "  fullstack = ['fullstack', 'full stack', 'full-stack', 'фуллстек']\n",
        "  recruitment = ['hr', 'персонал', 'рекрутер', 'кадр']\n",
        "  management = ['руководитель', 'проект', 'manager', 'project']\n",
        "\n",
        "\n",
        "  for skills in skills_list:\n",
        "    for skill in skills.split(\",\"):\n",
        "\n",
        "      if devops in skill.lower():\n",
        "        direction.append('Administration')\n",
        "\n",
        "      if flutter in skill.lower():\n",
        "        direction.append('Development')\n",
        "\n",
        "      if cplus in skill.lower():\n",
        "        direction.append('Development')\n",
        "\n",
        "      if onec in skill.lower():\n",
        "        direction.append('Administration')\n",
        "\n",
        "      if kotlin in skill.lower():\n",
        "        direction.append('Development')\n",
        "\n",
        "      if csharp in skill.lower():\n",
        "        direction.append('Development')\n",
        "\n",
        "      for i_skill in go:\n",
        "        if i_skill in skill.lower():\n",
        "          direction.append('Development')\n",
        "\n",
        "      for i_skill in java:\n",
        "        if i_skill in skill.lower():\n",
        "          direction.append('Development')\n",
        "\n",
        "      for i_skill in python:\n",
        "        if i_skill in skill.lower():\n",
        "          direction.append('Development')\n",
        "\n",
        "      for i_skill in security:\n",
        "        if i_skill in skill.lower():\n",
        "          direction.append('Administration')\n",
        "\n",
        "      for i_skill in front:\n",
        "        if i_skill in skill.lower():\n",
        "          direction.append('Development')\n",
        "\n",
        "      for i_skill in analys:\n",
        "        if i_skill in skill.lower():\n",
        "          direction.append('Big Data')\n",
        "\n",
        "      for i_skill in data_scientist:\n",
        "        if i_skill in skill.lower():\n",
        "          direction.append('Big Data')\n",
        "\n",
        "      for i_skill in data_engineering:\n",
        "        if i_skill in skill.lower():\n",
        "          direction.append('Big Data')\n",
        "          direction.append('Administration')\n",
        "      \n",
        "      for i_skill in testing:\n",
        "        if i_skill in skill.lower():\n",
        "          direction.append('Testing')\n",
        "\n",
        "      for i_skill in mobile_development:\n",
        "        if i_skill in skill.lower():\n",
        "          direction.append('Development')\n",
        "\n",
        "      for i_skill in game_development:\n",
        "        if i_skill in skill.lower():\n",
        "          direction.append('Development')\n",
        "      \n",
        "      for i_skill in administration:\n",
        "        if i_skill in skill.lower():\n",
        "          direction.append('Administration')\n",
        "\n",
        "      for i_skill in design:\n",
        "        if i_skill in skill.lower():\n",
        "          direction.append('Design')\n",
        "\n",
        "      for i_skill in fullstack:\n",
        "        if i_skill in skill.lower():\n",
        "          direction.append('Development')\n",
        "      \n",
        "      \n",
        "      \n",
        "      \n",
        "      \n",
        "      \n",
        "      \n",
        "      \n",
        "      \"\"\"for i_skill in recruitment:\n",
        "        if i_skill in skill.lower():\n",
        "          direction.append('Recruitment')\n",
        "\n",
        "      for i_skill in management:\n",
        "        if i_skill in skill.lower():\n",
        "          direction.append('Management')\"\"\"\n",
        "\n",
        "\n",
        "  return direction\n",
        "\n",
        "dataset_vacancies['skill_direcrion'] = dataset_vacancies['key_skills_list'].apply(vacancy_direction)"
      ],
      "metadata": {
        "id": "xIZmAAVF1CZK"
      },
      "execution_count": null,
      "outputs": []
    },
    {
      "cell_type": "code",
      "source": [
        "import pandas as pd\n",
        "\n",
        "dataset_vacancies_direction = []\n",
        "for elem in dataset_vacancies['skill_direcrion']:\n",
        "  for i_elem in elem:\n",
        "    dataset_vacancies_direction.append(i_elem)\n",
        "\n",
        "dataset_vacancies_direction = pd.Series(dataset_vacancies_direction)\n",
        "dataset_vacancies_direction.unique()"
      ],
      "metadata": {
        "colab": {
          "base_uri": "https://localhost:8080/"
        },
        "id": "nVfEnYqJqgK-",
        "outputId": "6c58d71a-bab7-4930-8e4a-5ded055e4963"
      },
      "execution_count": null,
      "outputs": [
        {
          "output_type": "execute_result",
          "data": {
            "text/plain": [
              "array(['Design', 'Administration', 'Big Data', 'Development', 'Testing'],\n",
              "      dtype=object)"
            ]
          },
          "metadata": {},
          "execution_count": 116
        }
      ]
    },
    {
      "cell_type": "code",
      "source": [
        "import matplotlib.pyplot as plt\n",
        "\n",
        "# Круговая диаграмма\n",
        "type_counts = dataset_vacancies_direction.value_counts()\n",
        "total = sum(type_counts .values)\n",
        "labels = [f\"{n} ({v/total:.1%})\" for n,v in zip(type_counts.index, type_counts.values)]\n",
        "colors = {'#DD8B00': 'Big Data', '#D2001D': 'Administration', '#008D71': 'Development', '#005847': 'Design', '#FFC055': 'Testing', '#830012': 'Recruitment', '#895700': 'Management'}\n",
        "\n",
        "#colors = ['#DD8B00', '#D2001D', '#008D71', '#005847', '#FFC055']\n",
        "\n",
        "plt.pie(type_counts.values, \n",
        "        startangle = 180, \n",
        "        colors = colors,\n",
        "        radius = 2,\n",
        "        wedgeprops = {'linewidth': 0.3, 'edgecolor':'black'})\n",
        "\n",
        "plt.title('Анализ рынка труда в сфере IT', y = 1.35, fontsize = 15) # Добавление подписи к графику\n",
        "\n",
        "plt.legend(fontsize = 14,\n",
        "          ncol = 1, #  количество столбцов\n",
        "          facecolor = 'oldlace', #  цвет области\n",
        "          edgecolor = 'black', #  цвет крайней линии\n",
        "          title = 'Компетенции', #  заголовок\n",
        "          title_fontsize = '12', #  размер шрифта заголовка\n",
        "          labels = labels, # название лейблов\n",
        "          bbox_to_anchor=(-0.2, -0.667, 0.5, 1)) # расположение \"легенды\"\n",
        "plt.show()"
      ],
      "metadata": {
        "colab": {
          "base_uri": "https://localhost:8080/",
          "height": 409
        },
        "id": "jYFrRYsqprCT",
        "outputId": "f53d0c24-84e5-47b3-b155-0da55a33ce75"
      },
      "execution_count": null,
      "outputs": [
        {
          "output_type": "display_data",
          "data": {
            "text/plain": [
              "<Figure size 432x288 with 1 Axes>"
            ],
            "image/png": "[encoded data removed]"
          },
          "metadata": {}
        }
      ]
    },
    {
      "cell_type": "code",
      "source": [
        "dataset_vacancies.to_csv(\"vacancies.csv\", index=False, sep=\";\")"
      ],
      "metadata": {
        "id": "QFZrnWm78o9M"
      },
      "execution_count": null,
      "outputs": []
    },
    {
      "cell_type": "code",
      "source": [
        "dataset_courses.to_csv(\"courses.csv\", index=False, sep=\";\")"
      ],
      "metadata": {
        "id": "mjzRLXPH9Mat"
      },
      "execution_count": null,
      "outputs": []
    },
    {
      "cell_type": "code",
      "source": [],
      "metadata": {
        "id": "oPqvrUOWLIEz"
      },
      "execution_count": null,
      "outputs": []
    },
    {
      "cell_type": "code",
      "source": [
        "def course_development(course):\n",
        "\n",
        "  development = []\n",
        "  \n",
        "  flutter = 'flutter'\n",
        "  cplus = 'c++'\n",
        "  kotlin = 'kotlin'\n",
        "  csharp = 'с#'\n",
        "  go = ['go ', 'golang']\n",
        "  java = ['java ', 'spring']\n",
        "  python = ['python', 'django', 'flask']\n",
        "  front = ['фронтенд', 'front', 'фронт']\n",
        "  mobile_development = ['ios', 'swift', 'kotlin', 'android', 'мобил',' ipad', 'iphone', 'андроид']\n",
        "  game_development = ['unity', 'game', 'гейм', 'видеоигр', 'игр']\n",
        "  web_development = ['веб', 'сайт', 'tilda', 'web', 'тильда', 'javascript', 'vue.js', 'js', 'php', 'react',  'html', 'css']\n",
        "  fullstack = ['fullstack', 'full stack', 'full-stack', 'фуллстек']\n",
        "\n",
        "\n",
        "  if flutter in course.lower():\n",
        "     development.append('Flutter')\n",
        "\n",
        "  if cplus in course.lower():\n",
        "    development.append('C++')\n",
        "\n",
        "  if kotlin in course.lower():\n",
        "   development.append('Kotlin')\n",
        "\n",
        "  if csharp in course.lower():\n",
        "    development.append('C#')\n",
        "\n",
        "  for skill in go:\n",
        "    if skill in course.lower():\n",
        "      development.append('Go')\n",
        "\n",
        "  for skill in java:\n",
        "    if skill in course.lower():\n",
        "     development.append('Java')\n",
        "\n",
        "  for skill in python:\n",
        "    if skill in course.lower():\n",
        "      development.append('Python')\n",
        "\n",
        "  for skill in front:\n",
        "    if skill in course.lower():\n",
        "      development.append('Frontend')\n",
        "  \n",
        "  for skill in mobile_development:\n",
        "    if skill in course.lower():\n",
        "      development.append('Mobile development')\n",
        "\n",
        "  for skill in game_development:\n",
        "    if skill in course.lower():\n",
        "      development.append('GameDev')\n",
        "\n",
        "  for skill in fullstack:\n",
        "    if skill in course.lower():\n",
        "      development.append('FullStack')\n",
        "\n",
        "  return development\n",
        "\n",
        "dataset_vacancies['development'] = dataset_vacancies['name'].apply(course_development)\n",
        "dataset_vacancies['development']"
      ],
      "metadata": {
        "colab": {
          "base_uri": "https://localhost:8080/"
        },
        "outputId": "bee342d2-bb9b-4d44-e938-2b6d87e575ee",
        "id": "jxWiWEHvLIe8"
      },
      "execution_count": null,
      "outputs": [
        {
          "output_type": "execute_result",
          "data": {
            "text/plain": [
              "4      []\n",
              "7      []\n",
              "8      []\n",
              "9      []\n",
              "10     []\n",
              "       ..\n",
              "517    []\n",
              "518    []\n",
              "519    []\n",
              "522    []\n",
              "523    []\n",
              "Name: development, Length: 97542, dtype: object"
            ]
          },
          "metadata": {},
          "execution_count": 121
        }
      ]
    },
    {
      "cell_type": "markdown",
      "source": [
        "Распределяем компетенция по направлениям, аналогично с курсами. \n",
        "Также создаем датасет со всеми компетенции, за исключением общих и не имеющих отношения к сфере IT"
      ],
      "metadata": {
        "id": "kbi68_6G44oP"
      }
    },
    {
      "cell_type": "code",
      "source": [
        "import pandas as pd\n",
        "\n",
        "devops = 'devops'\n",
        "flutter = 'flutter'\n",
        "cplus = 'c++'\n",
        "onec = '1c'\n",
        "kotlin = 'kotlin'\n",
        "csharp = 'с#'\n",
        "go = ['go ', 'golang']\n",
        "java = ['java ', 'spring']\n",
        "python = ['python', 'django', 'flask']\n",
        "security = ['безопасност', 'securit']\n",
        "front = ['фронтенд', 'front', 'фронт']\n",
        "analys = ['a/b', 'аналитик', 'excel', 'power bi', 'sql', 'эксель', 'data analys', 'tableau', 'google-таблицы', 'дашборд']\n",
        "data_scientist = ['numpy', 'matplotlib', 'scikit-learn', 'нейронные', 'data scientist', ' ml ', 'data science', 'machine learning', 'машинного обучения', 'машинное обучение', 'deep learning', 'нейоронные сети']\n",
        "administration = ['администрирование', 'администратор', 'microsoft', 'linux', 'bitrix', 'cети', 'ремонт', 'helpdesk']\n",
        "data_engineering = ['проектирование', 'engineering', 'дата-инженер', 'субд', 'инженер данных', 'database', 'data engineering', 'dataops-инженер', 'инженер', 'баз данных', 'базы данных', 'engineer']\n",
        "testing = ['тестирование', 'тестировщик', 'test', 'тест', 'qa', 'ручному']\n",
        "mobile_development = ['ios', 'swift', 'kotlin', 'android', 'мобил',' ipad', 'iphone', 'андроид']\n",
        "game_development = ['unity', 'game', 'гейм', 'видеоигр', 'игр']\n",
        "web_development = ['веб', 'сайт', 'tilda', 'web', 'тильда', 'javascript', 'vue.js', 'js', 'php', 'react',  'html', 'css']\n",
        "design = ['дизайн', 'дженералист', 'ux/ui-дизайнер', 'ux', 'ui', 'модел', 'текстур', 'анимац', 'illustrator', 'моушн', 'моушен', 'иллюстр', '3d', 'верст', 'design', 'визуал', 'анимац', 'adobe', 'figma', 'интерьер', 'скетчинг',  'рисунок', 'photoshop', 'иллюстрация', 'графика', 'графический']\n",
        "fullstack = ['fullstack', 'full stack', 'full-stack', 'фуллстек']\n",
        "dataset_skills = [] # Датасет со сферами компетенций\n",
        "all_skills = [] # Датасет со всеми компетенциями\n",
        "general_skills = ['Грамотность', 'Управление персоналом', 'Телефонные переговоры', 'Подбор персонала', 'Активные продажи', 'Ведение переговоров', 'Организаторские навыки',\n",
        "                  'Деловые переговоры', 'Деловая коммуникация', 'Работа с большим объемом данных', 'Управление проектами', 'Пользователь ПК', 'Обучение и развитие', \n",
        "                  'Грамотная речь', 'Работа в команде', 'Работа с большим объемом информации', 'Креативность',  'Кадровое делопроизводство', 'Деловое общение', 'Деловая переписка',\n",
        "                  'ООП', 'Ориентация на результат', 'Аналитическое мышление', 'Адаптация персонала', 'Информационные технологии', 'Настройка ПК', 'Навыки продаж', 'Работа в условиях многозадачности',\n",
        "                  'Обучение персонала', 'MS PowerPoint', 'Настройка ПО', 'Жилая недвижимость', 'Разработка технических заданий', 'Бизнес-анализ', 'Проведение презентаций', 'Поиск и привлечение клиентов',\n",
        "                  'Заключение договоров', 'Массовый подбор персонала', 'Windows 7', 'Linux', 'Многозадачность', 'BPMN', 'Подбор недвижимости по запросу клиента', 'Ремонт ПК',\n",
        "                  'Оценка персонала'] # Список общих компетенций и выбросов, которые не потребуются при анализе\n",
        "for skills_list in dataset_vacancies['key_skills_list']:\n",
        "  for skills in skills_list:\n",
        "    for skill in skills.split(\",\"):\n",
        "\n",
        "      if '1c' in skill.lower() or '1с' in skill.lower():\n",
        "        all_skills.append('1C: Программирование')\n",
        "      elif 'sql' in skill.lower():\n",
        "        all_skills.append('SQL')\n",
        "      elif 'adobe' in skill.lower():\n",
        "        all_skills.append('Adobe Photoshop или Illustrator')\n",
        "      elif 'html' in skill.lower() or 'css' in skill.lower():\n",
        "        all_skills.append('html, css')\n",
        "      elif skill not in general_skills:\n",
        "        all_skills.append(skill)\n",
        "\n",
        "all_skills = pd.Series(all_skills)"
      ],
      "metadata": {
        "id": "kd43NXlGtaQa"
      },
      "execution_count": null,
      "outputs": []
    },
    {
      "cell_type": "markdown",
      "source": [
        "# Анализ взаимосвязи заработной платы и опыта работы"
      ],
      "metadata": {
        "id": "1QX2uoaKSXzW"
      }
    },
    {
      "cell_type": "code",
      "source": [
        "dataset_vacancies['experience_json'] = dataset_vacancies['experience'].apply(text_to_json)"
      ],
      "metadata": {
        "id": "kS0moZu2XOfr"
      },
      "execution_count": null,
      "outputs": []
    },
    {
      "cell_type": "code",
      "source": [
        "def get_values(json):\n",
        "  try:\n",
        "    return json['name']\n",
        "  except:\n",
        "    return None\n",
        "\n",
        "dataset_vacancies['experience_list'] = dataset_vacancies['experience_json'].apply(get_values)"
      ],
      "metadata": {
        "id": "9yKskAMvuXPh"
      },
      "execution_count": null,
      "outputs": []
    },
    {
      "cell_type": "code",
      "source": [
        "dataset = dataset_vacancies.loc[dataset_vacancies['salary'] != 0] #убираем данные, в которых отсутствует размер зарплаты"
      ],
      "metadata": {
        "id": "75iWMtKsn8FH"
      },
      "execution_count": null,
      "outputs": []
    },
    {
      "cell_type": "code",
      "source": [
        "dataset.groupby('experience_list')['salary'].median()"
      ],
      "metadata": {
        "colab": {
          "base_uri": "https://localhost:8080/"
        },
        "id": "m1-IRG5ezfU3",
        "outputId": "2da0ecac-e048-4a4e-8c0c-115d07c15f02"
      },
      "execution_count": null,
      "outputs": [
        {
          "output_type": "execute_result",
          "data": {
            "text/plain": [
              "experience_list\n",
              "Более 6 лет           113000.0\n",
              "Нет опыта              45000.0\n",
              "От 1 года до 3 лет     50000.0\n",
              "От 3 до 6 лет          90825.0\n",
              "Name: salary, dtype: float64"
            ]
          },
          "metadata": {},
          "execution_count": 90
        }
      ]
    },
    {
      "cell_type": "code",
      "source": [
        "dataset.groupby('experience_list')['salary'].describe()"
      ],
      "metadata": {
        "colab": {
          "base_uri": "https://localhost:8080/",
          "height": 206
        },
        "id": "fhZAnF1cywDt",
        "outputId": "19b8865f-7392-4962-c9a3-4ef56e98247d"
      },
      "execution_count": null,
      "outputs": [
        {
          "output_type": "execute_result",
          "data": {
            "text/plain": [
              "                      count           mean           std      min      25%  \\\n",
              "experience_list                                                              \n",
              "Более 6 лет          1133.0  140862.117387  94187.814270  11000.0  80000.0   \n",
              "Нет опыта           10894.0   60968.299798  59492.285553  10417.0  30000.0   \n",
              "От 1 года до 3 лет  24553.0   67898.576752  50208.261955  11000.0  40000.0   \n",
              "От 3 до 6 лет       10158.0  111209.973617  72962.752560  12000.0  60000.0   \n",
              "\n",
              "                         50%       75%        max  \n",
              "experience_list                                    \n",
              "Более 6 лет         113000.0  180000.0  1000000.0  \n",
              "Нет опыта            45000.0   70000.0  1500000.0  \n",
              "От 1 года до 3 лет   50000.0   80000.0  1500000.0  \n",
              "От 3 до 6 лет        90825.0  150000.0  2000000.0  "
            ],
            "text/html": [
              "\n",
              "  <div id=\"df-358d1891-16e0-475c-9bcc-51aa139c8897\">\n",
              "    <div class=\"colab-df-container\">\n",
              "      <div>\n",
              "<style scoped>\n",
              "    .dataframe tbody tr th:only-of-type {\n",
              "        vertical-align: middle;\n",
              "    }\n",
              "\n",
              "    .dataframe tbody tr th {\n",
              "        vertical-align: top;\n",
              "    }\n",
              "\n",
              "    .dataframe thead th {\n",
              "        text-align: right;\n",
              "    }\n",
              "</style>\n",
              "<table border=\"1\" class=\"dataframe\">\n",
              "  <thead>\n",
              "    <tr style=\"text-align: right;\">\n",
              "      <th></th>\n",
              "      <th>count</th>\n",
              "      <th>mean</th>\n",
              "      <th>std</th>\n",
              "      <th>min</th>\n",
              "      <th>25%</th>\n",
              "      <th>50%</th>\n",
              "      <th>75%</th>\n",
              "      <th>max</th>\n",
              "    </tr>\n",
              "    <tr>\n",
              "      <th>experience_list</th>\n",
              "      <th></th>\n",
              "      <th></th>\n",
              "      <th></th>\n",
              "      <th></th>\n",
              "      <th></th>\n",
              "      <th></th>\n",
              "      <th></th>\n",
              "      <th></th>\n",
              "    </tr>\n",
              "  </thead>\n",
              "  <tbody>\n",
              "    <tr>\n",
              "      <th>Более 6 лет</th>\n",
              "      <td>1133.0</td>\n",
              "      <td>140862.117387</td>\n",
              "      <td>94187.814270</td>\n",
              "      <td>11000.0</td>\n",
              "      <td>80000.0</td>\n",
              "      <td>113000.0</td>\n",
              "      <td>180000.0</td>\n",
              "      <td>1000000.0</td>\n",
              "    </tr>\n",
              "    <tr>\n",
              "      <th>Нет опыта</th>\n",
              "      <td>10894.0</td>\n",
              "      <td>60968.299798</td>\n",
              "      <td>59492.285553</td>\n",
              "      <td>10417.0</td>\n",
              "      <td>30000.0</td>\n",
              "      <td>45000.0</td>\n",
              "      <td>70000.0</td>\n",
              "      <td>1500000.0</td>\n",
              "    </tr>\n",
              "    <tr>\n",
              "      <th>От 1 года до 3 лет</th>\n",
              "      <td>24553.0</td>\n",
              "      <td>67898.576752</td>\n",
              "      <td>50208.261955</td>\n",
              "      <td>11000.0</td>\n",
              "      <td>40000.0</td>\n",
              "      <td>50000.0</td>\n",
              "      <td>80000.0</td>\n",
              "      <td>1500000.0</td>\n",
              "    </tr>\n",
              "    <tr>\n",
              "      <th>От 3 до 6 лет</th>\n",
              "      <td>10158.0</td>\n",
              "      <td>111209.973617</td>\n",
              "      <td>72962.752560</td>\n",
              "      <td>12000.0</td>\n",
              "      <td>60000.0</td>\n",
              "      <td>90825.0</td>\n",
              "      <td>150000.0</td>\n",
              "      <td>2000000.0</td>\n",
              "    </tr>\n",
              "  </tbody>\n",
              "</table>\n",
              "</div>\n",
              "      <button class=\"colab-df-convert\" onclick=\"convertToInteractive('df-358d1891-16e0-475c-9bcc-51aa139c8897')\"\n",
              "              title=\"Convert this dataframe to an interactive table.\"\n",
              "              style=\"display:none;\">\n",
              "        \n",
              "  <svg xmlns=\"http://www.w3.org/2000/svg\" height=\"24px\"viewBox=\"0 0 24 24\"\n",
              "       width=\"24px\">\n",
              "    <path d=\"M0 0h24v24H0V0z\" fill=\"none\"/>\n",
              "    <path d=\"M18.56 5.44l.94 2.06.94-2.06 2.06-.94-2.06-.94-.94-2.06-.94 2.06-2.06.94zm-11 1L8.5 8.5l.94-2.06 2.06-.94-2.06-.94L8.5 2.5l-.94 2.06-2.06.94zm10 10l.94 2.06.94-2.06 2.06-.94-2.06-.94-.94-2.06-.94 2.06-2.06.94z\"/><path d=\"M17.41 7.96l-1.37-1.37c-.4-.4-.92-.59-1.43-.59-.52 0-1.04.2-1.43.59L10.3 9.45l-7.72 7.72c-.78.78-.78 2.05 0 2.83L4 21.41c.39.39.9.59 1.41.59.51 0 1.02-.2 1.41-.59l7.78-7.78 2.81-2.81c.8-.78.8-2.07 0-2.86zM5.41 20L4 18.59l7.72-7.72 1.47 1.35L5.41 20z\"/>\n",
              "  </svg>\n",
              "      </button>\n",
              "      \n",
              "  <style>\n",
              "    .colab-df-container {\n",
              "      display:flex;\n",
              "      flex-wrap:wrap;\n",
              "      gap: 12px;\n",
              "    }\n",
              "\n",
              "    .colab-df-convert {\n",
              "      background-color: #E8F0FE;\n",
              "      border: none;\n",
              "      border-radius: 50%;\n",
              "      cursor: pointer;\n",
              "      display: none;\n",
              "      fill: #1967D2;\n",
              "      height: 32px;\n",
              "      padding: 0 0 0 0;\n",
              "      width: 32px;\n",
              "    }\n",
              "\n",
              "    .colab-df-convert:hover {\n",
              "      background-color: #E2EBFA;\n",
              "      box-shadow: 0px 1px 2px rgba(60, 64, 67, 0.3), 0px 1px 3px 1px rgba(60, 64, 67, 0.15);\n",
              "      fill: #174EA6;\n",
              "    }\n",
              "\n",
              "    [theme=dark] .colab-df-convert {\n",
              "      background-color: #3B4455;\n",
              "      fill: #D2E3FC;\n",
              "    }\n",
              "\n",
              "    [theme=dark] .colab-df-convert:hover {\n",
              "      background-color: #434B5C;\n",
              "      box-shadow: 0px 1px 3px 1px rgba(0, 0, 0, 0.15);\n",
              "      filter: drop-shadow(0px 1px 2px rgba(0, 0, 0, 0.3));\n",
              "      fill: #FFFFFF;\n",
              "    }\n",
              "  </style>\n",
              "\n",
              "      <script>\n",
              "        const buttonEl =\n",
              "          document.querySelector('#df-358d1891-16e0-475c-9bcc-51aa139c8897 button.colab-df-convert');\n",
              "        buttonEl.style.display =\n",
              "          google.colab.kernel.accessAllowed ? 'block' : 'none';\n",
              "\n",
              "        async function convertToInteractive(key) {\n",
              "          const element = document.querySelector('#df-358d1891-16e0-475c-9bcc-51aa139c8897');\n",
              "          const dataTable =\n",
              "            await google.colab.kernel.invokeFunction('convertToInteractive',\n",
              "                                                     [key], {});\n",
              "          if (!dataTable) return;\n",
              "\n",
              "          const docLinkHtml = 'Like what you see? Visit the ' +\n",
              "            '<a target=\"_blank\" href=https://colab.research.google.com/notebooks/data_table.ipynb>data table notebook</a>'\n",
              "            + ' to learn more about interactive tables.';\n",
              "          element.innerHTML = '';\n",
              "          dataTable['output_type'] = 'display_data';\n",
              "          await google.colab.output.renderOutput(dataTable, element);\n",
              "          const docLink = document.createElement('div');\n",
              "          docLink.innerHTML = docLinkHtml;\n",
              "          element.appendChild(docLink);\n",
              "        }\n",
              "      </script>\n",
              "    </div>\n",
              "  </div>\n",
              "  "
            ]
          },
          "metadata": {},
          "execution_count": 91
        }
      ]
    },
    {
      "cell_type": "code",
      "source": [
        "import seaborn as sns\n",
        "\n",
        "sns.boxplot(x='experience_list', y=\"salary\", data=dataset)\n",
        "plt.axis(ymin=0, ymax=400000)\n",
        "plt.show()"
      ],
      "metadata": {
        "colab": {
          "base_uri": "https://localhost:8080/",
          "height": 284
        },
        "id": "ltt_y5ekzyIU",
        "outputId": "aca74de6-2823-485c-ed15-8af5b5fffff2"
      },
      "execution_count": null,
      "outputs": [
        {
          "output_type": "display_data",
          "data": {
            "text/plain": [
              "<Figure size 432x288 with 1 Axes>"
            ],
            "image/png": "[encoded data removed]"
          },
          "metadata": {
            "needs_background": "light"
          }
        }
      ]
    },
    {
      "cell_type": "markdown",
      "source": [
        "Выводы по анализу взаимосвязи величины зарплаты и опыта работы:\n",
        "1. Для начинающего специалиста средняя зарплата состовляет 45 000 рублей.\n",
        "2. Для специалиста с опытом работы от года средняя заработная плата возрастает до 50 000 рублей, а от трех лет - 90 000 рублей."
      ],
      "metadata": {
        "id": "-lTg5H-Dse7T"
      }
    }
  ]
}